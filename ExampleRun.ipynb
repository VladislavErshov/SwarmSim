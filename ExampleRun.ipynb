{
 "cells": [
  {
   "attachments": {},
   "cell_type": "markdown",
   "metadata": {},
   "source": [
    "# Example simulation run\n",
    "\n",
    "Here we demonstrate how to run a multiagent system simulation."
   ]
  },
  {
   "attachments": {},
   "cell_type": "markdown",
   "metadata": {},
   "source": [
    "## Step 0: Install required packages\n",
    "\n",
    "Python 3.9 or higher should be installed.\n",
    "The required packages are in `requirements.txt`.\n",
    "These packages can be installed by executing \n",
    "\n",
    "```\n",
    "    pip install -r requirements.txt\n",
    "```\n",
    "\n",
    "or by using a prefered environment manager."
   ]
  },
  {
   "attachments": {},
   "cell_type": "markdown",
   "metadata": {},
   "source": [
    "## Step 1: Prepare configs\n",
    "\n",
    "In `cfg/`, a config should be prepared.\n",
    "A config should contain lists of desired parameter values for the `linear_mpc()` function in the `RunSession.py`.\n",
    "Examples of configs are `cfg/exprt_1.cfg`&ndash;`cfg/exprt_8.cfg`. \n",
    "\n",
    "Note that there is one permanent config `cfg/metaparams.cfg`.\n",
    "Four parameters should be specified:\n",
    "* `n_exper_runs`: number of runs per a single set of parameters; multiple runs are necessary to gather statistics, since some parts of the experiments are randomized.\n",
    "* `do_dynamics`: set to `True` if compute agent dynamics plots.\n",
    "* `do_statistics`: set to `True` if compute experiment statistics (mean computation time, cost values, etc).\n",
    "* `multiprocess`: set to `True` if use multiprocessing for parallel computing of runs.\n",
    "* `rnd_seed`: specify a randomization seed, can be set to `False` to avoid seeding.\n"
   ]
  },
  {
   "attachments": {},
   "cell_type": "markdown",
   "metadata": {},
   "source": [
    "## Step 2: Run a set of simulations, specified by configs\n",
    "\n",
    "Simulations are initiated by `RunSession.py`.\n",
    "Execute \n",
    "\n",
    "```\n",
    "    python RunSession.py exprt_1 exprt_4\n",
    "```\n",
    "\n",
    "to run two experiments specified in configs `cfg/exprt_1` and `cfg/exprt_4`.\n",
    "The experiments are executed sequentially in a loop.\n",
    "One can execute runs with any pre-defined configurations with arbitrary names, except for `metaparams`.\n",
    "\n",
    "The results are dumped into `results/`."
   ]
  },
  {
   "cell_type": "code",
   "execution_count": null,
   "metadata": {},
   "outputs": [],
   "source": [
    "%run RunSession.py exprt_1 exprt_4"
   ]
  },
  {
   "attachments": {},
   "cell_type": "markdown",
   "metadata": {},
   "source": [
    "## Step 3: Visualize the results\n",
    "\n",
    "For visualization, we encourage to edit and run \n",
    "* `PlotResults.py` to visualize statistics and \n",
    "* `PlotDynamics.py` to compute cost values during the system operation timeline for a specifig set of parameters.\n",
    "\n",
    "In `PlotResults.py`, `exper_name` should be specified and should direct to pre-calculated experiments stored in `results/`.\n",
    "\n",
    "In `PlotDynamics.py`, both `exper_name` and `subname` should be specified, where the latter is responsible for the choice of a specific set of parameters within the experiment.\n",
    "\n",
    "The vizualization scripts can then be executed by\n",
    "\n",
    "```\n",
    "    python PlotResults.py\n",
    "    python PlotDynamics.py\n",
    "```\n",
    "\n",
    "The results are stired in `results/`."
   ]
  },
  {
   "cell_type": "code",
   "execution_count": null,
   "metadata": {},
   "outputs": [],
   "source": [
    "%run PlotResults.py"
   ]
  },
  {
   "cell_type": "code",
   "execution_count": null,
   "metadata": {},
   "outputs": [],
   "source": [
    "%run PlotDynamics.py"
   ]
  },
  {
   "attachments": {},
   "cell_type": "markdown",
   "metadata": {},
   "source": []
  }
 ],
 "metadata": {
  "kernelspec": {
   "display_name": "aut23robosim",
   "language": "python",
   "name": "python3"
  },
  "language_info": {
   "codemirror_mode": {
    "name": "ipython",
    "version": 3
   },
   "file_extension": ".py",
   "mimetype": "text/x-python",
   "name": "python",
   "nbconvert_exporter": "python",
   "pygments_lexer": "ipython3",
   "version": "3.10.9"
  },
  "orig_nbformat": 4
 },
 "nbformat": 4,
 "nbformat_minor": 2
}
